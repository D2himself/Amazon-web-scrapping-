{
 "cells": [
  {
   "cell_type": "code",
   "execution_count": 1,
   "id": "79a7c85b",
   "metadata": {},
   "outputs": [],
   "source": [
    "from bs4 import BeautifulSoup\n",
    "import requests\n",
    "import smtplib\n",
    "import time\n",
    "import datetime"
   ]
  },
  {
   "cell_type": "code",
   "execution_count": 2,
   "id": "b5f9cfe0",
   "metadata": {},
   "outputs": [],
   "source": [
    "# connect to website\n",
    "\n",
    "url = 'https://www.amazon.com/Funny-Data-Systems-Business-Analyst/dp/B07FNW9FGJ/ref=sr_1_1?crid=1DJZM7DLBO0CJ&dib=eyJ2IjoiMSJ9.WiKhGOLdBAacALLGC9ayNOuSFgH2acw5wZ3-xstLg49MilZwtwZp81JGkxHFIg-J6i7-I7v-9lRvocuKSnecEtCIuL7b1W-TkIe-Fl8B1REif_bkGqJYkY5XyOy1uqsiJGoKVEtWPI6UlJT5KI7ULum4lyi9lT-JVjjiWrEVTWW68XIt-BWoL-IR-YNKWPDCNwHgaAzeVlPYKIz8MVzbqML4zujcmfHS4ErFEcujPa3qcBvpMkYsPSFNtxE1K26CRyAZ1SqW0Kx9cuuZqRnW_k6-YugRxjavC1iCmp6K_kQ.1I6ip6ui29aOU1qVq2eOU98NpeCeV2QF1I1GO8vQL3E&dib_tag=se&keywords=data%2Banalyst%2Bshirt&qid=1722518812&sprefix=data%2Banalyst%2Caps%2C1983&sr=8-1'\n",
    "\n",
    "\n",
    "\n",
    "\n",
    "\n",
    "headers = {\"User-Agent\": \"Mozilla/5.0 (Windows NT 10.0; Win64; x64) AppleWebKit/537.36 (KHTML, like Gecko) Chrome/127.0.0.0 Safari/537.36\", \"Accept-Encoding\":\"gzip, deflate\", \"Accept\":\"text/html,application/xhtml+xml, application/xml;q=0.9,*/*;q=0.8\", \"DNT\":\"1\",\"Connect\":\"close\", \"Upgrade-Insecure-Requests\":\"1\"}\n",
    "\n",
    "\n",
    "page = requests.get(url, headers=headers)\n",
    "\n",
    "soup1 = BeautifulSoup(page.content, 'html.parser')\n",
    "\n",
    "soup2 = BeautifulSoup(soup1.prettify(), 'html.parser')\n",
    "\n",
    "title = soup2.find(id='productTitle').get_text()\n",
    "price = soup2.find(class_ = 'aok-offscreen').get_text()\n"
   ]
  },
  {
   "cell_type": "code",
   "execution_count": 19,
   "id": "8cde3ab4",
   "metadata": {},
   "outputs": [
    {
     "name": "stdout",
     "output_type": "stream",
     "text": [
      "4.3\n"
     ]
    }
   ],
   "source": [
    "rating = soup2.find(class_= 'a-icon-alt').get_text().strip()[:3]\n",
    "print(rating)"
   ]
  },
  {
   "cell_type": "code",
   "execution_count": 4,
   "id": "b063b5ec",
   "metadata": {},
   "outputs": [
    {
     "name": "stdout",
     "output_type": "stream",
     "text": [
      "Funny Got Data MIS Data Systems Business Analyst T-Shirt \n",
      "16.99\n"
     ]
    }
   ],
   "source": [
    "price = price.strip()[1:]\n",
    "title = title.strip()\n",
    "\n",
    "print(f'{title} \\n{price}')"
   ]
  },
  {
   "cell_type": "code",
   "execution_count": 10,
   "id": "0fc93f18",
   "metadata": {},
   "outputs": [
    {
     "name": "stdout",
     "output_type": "stream",
     "text": [
      "2024-08-01\n"
     ]
    }
   ],
   "source": [
    "today = datetime.date.today()\n",
    "print(today)"
   ]
  },
  {
   "cell_type": "code",
   "execution_count": 20,
   "id": "ee22a9e5",
   "metadata": {},
   "outputs": [],
   "source": [
    "import csv\n",
    "\n",
    "header = ['Title', 'Price', 'Date', 'Rating']\n",
    "data = [title, price, today, rating]\n",
    "\n",
    "# with open('AmazonWebscrapperDataset.csv', 'w', newline='', encoding='UTF8') as f:\n",
    "#     writer = csv.writer(f)\n",
    "#     writer.writerow(header)\n",
    "#     writer.writerow(data)"
   ]
  },
  {
   "cell_type": "code",
   "execution_count": 21,
   "id": "d1ca1509",
   "metadata": {},
   "outputs": [
    {
     "name": "stdout",
     "output_type": "stream",
     "text": [
      "                                               Title  Price        Date  \\\n",
      "0  Funny Got Data MIS Data Systems Business Analy...  16.99  2024-08-01   \n",
      "\n",
      "   Rating  \n",
      "0     4.3  \n"
     ]
    }
   ],
   "source": [
    "import pandas as pd\n",
    "\n",
    "df = pd.read_csv(r'C:\\Users\\omoke\\AmazonWebscrapperDataset.csv')\n",
    "\n",
    "print(df)"
   ]
  },
  {
   "cell_type": "code",
   "execution_count": null,
   "id": "5d41e736",
   "metadata": {},
   "outputs": [],
   "source": [
    "# appending data to csv\n",
    "\n",
    "with open('AmazonWebscrapperDataset.csv', 'a+', newline='', encoding='UTF8') as f:\n",
    "    writer = csv.writer(f)\n",
    "    writer.writerow(data)"
   ]
  },
  {
   "cell_type": "code",
   "execution_count": null,
   "id": "8c1c8634",
   "metadata": {},
   "outputs": [],
   "source": [
    "def check_price():\n",
    "    url = 'https://www.amazon.com/Funny-Data-Systems-Business-Analyst/dp/B07FNW9FGJ/ref=sr_1_1?crid=1DJZM7DLBO0CJ&dib=eyJ2IjoiMSJ9.WiKhGOLdBAacALLGC9ayNOuSFgH2acw5wZ3-xstLg49MilZwtwZp81JGkxHFIg-J6i7-I7v-9lRvocuKSnecEtCIuL7b1W-TkIe-Fl8B1REif_bkGqJYkY5XyOy1uqsiJGoKVEtWPI6UlJT5KI7ULum4lyi9lT-JVjjiWrEVTWW68XIt-BWoL-IR-YNKWPDCNwHgaAzeVlPYKIz8MVzbqML4zujcmfHS4ErFEcujPa3qcBvpMkYsPSFNtxE1K26CRyAZ1SqW0Kx9cuuZqRnW_k6-YugRxjavC1iCmp6K_kQ.1I6ip6ui29aOU1qVq2eOU98NpeCeV2QF1I1GO8vQL3E&dib_tag=se&keywords=data%2Banalyst%2Bshirt&qid=1722518812&sprefix=data%2Banalyst%2Caps%2C1983&sr=8-1'\n",
    "    \n",
    "    headers = {\"User-Agent\": \"Mozilla/5.0 (Windows NT 10.0; Win64; x64) AppleWebKit/537.36 (KHTML, like Gecko) Chrome/127.0.0.0 Safari/537.36\", \"Accept-Encoding\":\"gzip, deflate\", \"Accept\":\"text/html,application/xhtml+xml, application/xml;q=0.9,*/*;q=0.8\", \"DNT\":\"1\",\"Connect\":\"close\", \"Upgrade-Insecure-Requests\":\"1\"}\n",
    "\n",
    "    page = requests.get(url, headers=headers)\n",
    "\n",
    "    soup1 = BeautifulSoup(page.content, 'html.parser')\n",
    "\n",
    "    soup2 = BeautifulSoup(soup1.prettify(), 'html.parser')\n",
    "\n",
    "    title = soup2.find(id='productTitle').get_text()\n",
    "    price = soup2.find(class_ = 'aok-offscreen').get_text()\n",
    "    \n",
    "    rating = soup2.find(class_= 'a-icon-alt').get_text().strip()[:3]\n",
    "\n",
    "    import datetime\n",
    "    \n",
    "    today = datetime.date.today()\n",
    "    \n",
    "    import csv\n",
    "    \n",
    "    with open('AmazonWebscrapperDataset.csv', 'a+', newline='', encoding='UTF8') as f:\n",
    "        writer = csv.writer(f)\n",
    "        writer.writerow(data)\n",
    "    \n",
    "    if price < 16:\n",
    "        send_mail()\n",
    "    "
   ]
  },
  {
   "cell_type": "code",
   "execution_count": null,
   "id": "29221ceb",
   "metadata": {},
   "outputs": [],
   "source": [
    "while(True):\n",
    "    check_price()\n",
    "    time.sleep(86400)"
   ]
  },
  {
   "cell_type": "code",
   "execution_count": 22,
   "id": "5377fcb0",
   "metadata": {},
   "outputs": [],
   "source": [
    "def send_mail():\n",
    "    server = smtplib.SMTP_SSL('smtp.gmail.com', 465)\n",
    "    server.ehlo()\n",
    "    #server.starttls()\n",
    "    server.ehlo()\n",
    "    server.login('omokemiayodimeji@gmail.com', 'xxxxxxxxxx')\n",
    "    \n",
    "    subject = \"\"\n",
    "    body = \"\"\n",
    "    \n",
    "    msg = f\"Subject: {subject} \\n\\n{body}\"\n",
    "    \n",
    "    server.sendmail(\n",
    "        'omokemiayodimeji@gmail.com', msg\n",
    "    )"
   ]
  },
  {
   "cell_type": "code",
   "execution_count": null,
   "id": "1e7396ec",
   "metadata": {},
   "outputs": [],
   "source": []
  },
  {
   "cell_type": "code",
   "execution_count": null,
   "id": "9608dc66",
   "metadata": {},
   "outputs": [],
   "source": []
  },
  {
   "cell_type": "code",
   "execution_count": null,
   "id": "83f04a4b",
   "metadata": {},
   "outputs": [],
   "source": []
  },
  {
   "cell_type": "code",
   "execution_count": null,
   "id": "a272afa0",
   "metadata": {},
   "outputs": [],
   "source": []
  },
  {
   "cell_type": "code",
   "execution_count": null,
   "id": "7524ebaf",
   "metadata": {},
   "outputs": [],
   "source": []
  },
  {
   "cell_type": "code",
   "execution_count": null,
   "id": "aa09db5a",
   "metadata": {},
   "outputs": [],
   "source": []
  },
  {
   "cell_type": "code",
   "execution_count": null,
   "id": "8bce8fb2",
   "metadata": {},
   "outputs": [],
   "source": []
  },
  {
   "cell_type": "code",
   "execution_count": null,
   "id": "7fddab2e",
   "metadata": {},
   "outputs": [],
   "source": []
  }
 ],
 "metadata": {
  "kernelspec": {
   "display_name": "Python 3 (ipykernel)",
   "language": "python",
   "name": "python3"
  },
  "language_info": {
   "codemirror_mode": {
    "name": "ipython",
    "version": 3
   },
   "file_extension": ".py",
   "mimetype": "text/x-python",
   "name": "python",
   "nbconvert_exporter": "python",
   "pygments_lexer": "ipython3",
   "version": "3.11.5"
  }
 },
 "nbformat": 4,
 "nbformat_minor": 5
}
